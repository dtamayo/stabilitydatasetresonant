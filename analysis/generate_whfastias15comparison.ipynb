{
 "cells": [
  {
   "cell_type": "code",
   "execution_count": 4,
   "metadata": {
    "collapsed": true
   },
   "outputs": [],
   "source": [
    "import rebound\n",
    "from multiprocessing import Pool\n",
    "from itertools import repeat\n",
    "from runfunctions import run_random\n",
    "import math"
   ]
  },
  {
   "cell_type": "code",
   "execution_count": 5,
   "metadata": {
    "collapsed": true
   },
   "outputs": [],
   "source": [
    "N_systems=4\n",
    "tmax = 1.e6\n",
    "betamin=5\n",
    "betamax=20\n",
    "\n",
    "integrator=\"whfast\"\n",
    "dt = 5*math.sqrt(3)/100.\n",
    "shadow = 0\n",
    "Nthreads = 4\n",
    "\n",
    "params = list(zip(range(N_systems), repeat(integrator), repeat(dt), repeat(tmax), repeat(betamin), repeat(betamax), repeat(shadow)))"
   ]
  },
  {
   "cell_type": "code",
   "execution_count": 6,
   "metadata": {},
   "outputs": [
    {
     "data": {
      "text/plain": [
       "[(0, 'whfast', 0.08660254037844385, 1000000.0, 5, 20, 0),\n",
       " (1, 'whfast', 0.08660254037844385, 1000000.0, 5, 20, 0),\n",
       " (2, 'whfast', 0.08660254037844385, 1000000.0, 5, 20, 0),\n",
       " (3, 'whfast', 0.08660254037844385, 1000000.0, 5, 20, 0)]"
      ]
     },
     "execution_count": 6,
     "metadata": {},
     "output_type": "execute_result"
    }
   ],
   "source": [
    "params"
   ]
  },
  {
   "cell_type": "code",
   "execution_count": 7,
   "metadata": {
    "collapsed": true
   },
   "outputs": [],
   "source": [
    "pool = Pool(Nthreads)\n",
    "res = pool.starmap(run_random, params)"
   ]
  },
  {
   "cell_type": "code",
   "execution_count": 8,
   "metadata": {},
   "outputs": [
    {
     "data": {
      "text/html": [
       "<div>\n",
       "<table border=\"1\" class=\"dataframe\">\n",
       "  <thead>\n",
       "    <tr style=\"text-align: right;\">\n",
       "      <th></th>\n",
       "      <th>instability_time</th>\n",
       "      <th>frac_energy_error</th>\n",
       "      <th>wall_time</th>\n",
       "    </tr>\n",
       "  </thead>\n",
       "  <tbody>\n",
       "    <tr>\n",
       "      <th>0</th>\n",
       "      <td>1000000.000000</td>\n",
       "      <td>2.112187e-06</td>\n",
       "      <td>11.600061</td>\n",
       "    </tr>\n",
       "    <tr>\n",
       "      <th>1</th>\n",
       "      <td>1000000.000000</td>\n",
       "      <td>4.619958e-07</td>\n",
       "      <td>11.572119</td>\n",
       "    </tr>\n",
       "    <tr>\n",
       "      <th>2</th>\n",
       "      <td>40883.896973</td>\n",
       "      <td>2.002874e-05</td>\n",
       "      <td>0.472708</td>\n",
       "    </tr>\n",
       "    <tr>\n",
       "      <th>3</th>\n",
       "      <td>1000000.000000</td>\n",
       "      <td>5.585601e-08</td>\n",
       "      <td>11.670861</td>\n",
       "    </tr>\n",
       "  </tbody>\n",
       "</table>\n",
       "</div>"
      ],
      "text/plain": [
       "   instability_time  frac_energy_error  wall_time\n",
       "0    1000000.000000       2.112187e-06  11.600061\n",
       "1    1000000.000000       4.619958e-07  11.572119\n",
       "2      40883.896973       2.002874e-05   0.472708\n",
       "3    1000000.000000       5.585601e-08  11.670861"
      ]
     },
     "execution_count": 8,
     "metadata": {},
     "output_type": "execute_result"
    }
   ],
   "source": [
    "import pandas as pd\n",
    "df = pd.DataFrame(res, columns=('instability_time', 'frac_energy_error', 'wall_time'))\n",
    "df.head(N_systems)"
   ]
  },
  {
   "cell_type": "code",
   "execution_count": 9,
   "metadata": {},
   "outputs": [
    {
     "data": {
      "text/html": [
       "<div>\n",
       "<table border=\"1\" class=\"dataframe\">\n",
       "  <thead>\n",
       "    <tr style=\"text-align: right;\">\n",
       "      <th></th>\n",
       "      <th>instability_time</th>\n",
       "      <th>frac_energy_error</th>\n",
       "      <th>wall_time</th>\n",
       "    </tr>\n",
       "  </thead>\n",
       "  <tbody>\n",
       "    <tr>\n",
       "      <th>0</th>\n",
       "      <td>1000000.000000</td>\n",
       "      <td>4.742472e-08</td>\n",
       "      <td>43.055632</td>\n",
       "    </tr>\n",
       "    <tr>\n",
       "      <th>1</th>\n",
       "      <td>1000000.000000</td>\n",
       "      <td>3.548341e-09</td>\n",
       "      <td>45.475823</td>\n",
       "    </tr>\n",
       "    <tr>\n",
       "      <th>2</th>\n",
       "      <td>81060.485138</td>\n",
       "      <td>1.135301e-07</td>\n",
       "      <td>3.667619</td>\n",
       "    </tr>\n",
       "    <tr>\n",
       "      <th>3</th>\n",
       "      <td>1000000.000000</td>\n",
       "      <td>2.713315e-10</td>\n",
       "      <td>45.296415</td>\n",
       "    </tr>\n",
       "    <tr>\n",
       "      <th>4</th>\n",
       "      <td>284.956926</td>\n",
       "      <td>1.179728e-06</td>\n",
       "      <td>0.012641</td>\n",
       "    </tr>\n",
       "    <tr>\n",
       "      <th>5</th>\n",
       "      <td>1000000.000000</td>\n",
       "      <td>4.547113e-08</td>\n",
       "      <td>45.198791</td>\n",
       "    </tr>\n",
       "    <tr>\n",
       "      <th>6</th>\n",
       "      <td>120744.143623</td>\n",
       "      <td>1.214940e-07</td>\n",
       "      <td>5.465956</td>\n",
       "    </tr>\n",
       "    <tr>\n",
       "      <th>7</th>\n",
       "      <td>1000000.000000</td>\n",
       "      <td>5.728209e-10</td>\n",
       "      <td>42.284635</td>\n",
       "    </tr>\n",
       "    <tr>\n",
       "      <th>8</th>\n",
       "      <td>217.718734</td>\n",
       "      <td>3.567825e-07</td>\n",
       "      <td>0.009888</td>\n",
       "    </tr>\n",
       "    <tr>\n",
       "      <th>9</th>\n",
       "      <td>14633.663660</td>\n",
       "      <td>8.881835e-08</td>\n",
       "      <td>0.669311</td>\n",
       "    </tr>\n",
       "    <tr>\n",
       "      <th>10</th>\n",
       "      <td>1000000.000000</td>\n",
       "      <td>7.510739e-10</td>\n",
       "      <td>42.448006</td>\n",
       "    </tr>\n",
       "    <tr>\n",
       "      <th>11</th>\n",
       "      <td>1000000.000000</td>\n",
       "      <td>7.031879e-08</td>\n",
       "      <td>42.922617</td>\n",
       "    </tr>\n",
       "    <tr>\n",
       "      <th>12</th>\n",
       "      <td>2856.944736</td>\n",
       "      <td>6.320774e-07</td>\n",
       "      <td>0.130016</td>\n",
       "    </tr>\n",
       "    <tr>\n",
       "      <th>13</th>\n",
       "      <td>1000000.000000</td>\n",
       "      <td>2.043268e-09</td>\n",
       "      <td>42.040182</td>\n",
       "    </tr>\n",
       "    <tr>\n",
       "      <th>14</th>\n",
       "      <td>1000000.000000</td>\n",
       "      <td>4.735070e-10</td>\n",
       "      <td>45.185474</td>\n",
       "    </tr>\n",
       "    <tr>\n",
       "      <th>15</th>\n",
       "      <td>229796.311629</td>\n",
       "      <td>3.718438e-07</td>\n",
       "      <td>10.017007</td>\n",
       "    </tr>\n",
       "    <tr>\n",
       "      <th>16</th>\n",
       "      <td>1000000.000000</td>\n",
       "      <td>1.211815e-09</td>\n",
       "      <td>47.139212</td>\n",
       "    </tr>\n",
       "    <tr>\n",
       "      <th>17</th>\n",
       "      <td>1000000.000000</td>\n",
       "      <td>1.518486e-09</td>\n",
       "      <td>44.058065</td>\n",
       "    </tr>\n",
       "    <tr>\n",
       "      <th>18</th>\n",
       "      <td>1000000.000000</td>\n",
       "      <td>6.256990e-10</td>\n",
       "      <td>43.736842</td>\n",
       "    </tr>\n",
       "    <tr>\n",
       "      <th>19</th>\n",
       "      <td>38.139554</td>\n",
       "      <td>2.161683e-05</td>\n",
       "      <td>0.001795</td>\n",
       "    </tr>\n",
       "  </tbody>\n",
       "</table>\n",
       "</div>"
      ],
      "text/plain": [
       "    instability_time  frac_energy_error  wall_time\n",
       "0     1000000.000000       4.742472e-08  43.055632\n",
       "1     1000000.000000       3.548341e-09  45.475823\n",
       "2       81060.485138       1.135301e-07   3.667619\n",
       "3     1000000.000000       2.713315e-10  45.296415\n",
       "4         284.956926       1.179728e-06   0.012641\n",
       "5     1000000.000000       4.547113e-08  45.198791\n",
       "6      120744.143623       1.214940e-07   5.465956\n",
       "7     1000000.000000       5.728209e-10  42.284635\n",
       "8         217.718734       3.567825e-07   0.009888\n",
       "9       14633.663660       8.881835e-08   0.669311\n",
       "10    1000000.000000       7.510739e-10  42.448006\n",
       "11    1000000.000000       7.031879e-08  42.922617\n",
       "12       2856.944736       6.320774e-07   0.130016\n",
       "13    1000000.000000       2.043268e-09  42.040182\n",
       "14    1000000.000000       4.735070e-10  45.185474\n",
       "15     229796.311629       3.718438e-07  10.017007\n",
       "16    1000000.000000       1.211815e-09  47.139212\n",
       "17    1000000.000000       1.518486e-09  44.058065\n",
       "18    1000000.000000       6.256990e-10  43.736842\n",
       "19         38.139554       2.161683e-05   0.001795"
      ]
     },
     "execution_count": 9,
     "metadata": {},
     "output_type": "execute_result"
    }
   ],
   "source": [
    "import math\n",
    "df = pd.read_csv('../data/whfastias15comparison/whfastdt{:.3f}.csv'.format(2*math.sqrt(3)/100), index_col=0)\n",
    "df.head(20)"
   ]
  },
  {
   "cell_type": "code",
   "execution_count": 66,
   "metadata": {},
   "outputs": [
    {
     "data": {
      "text/html": [
       "<div>\n",
       "<table border=\"1\" class=\"dataframe\">\n",
       "  <thead>\n",
       "    <tr style=\"text-align: right;\">\n",
       "      <th></th>\n",
       "      <th>instability_time</th>\n",
       "      <th>frac_energy_error</th>\n",
       "    </tr>\n",
       "  </thead>\n",
       "  <tbody>\n",
       "    <tr>\n",
       "      <th>0</th>\n",
       "      <td>1000000.000000</td>\n",
       "      <td>3.537836e-06</td>\n",
       "    </tr>\n",
       "    <tr>\n",
       "      <th>1</th>\n",
       "      <td>758278.272355</td>\n",
       "      <td>9.174321e-06</td>\n",
       "    </tr>\n",
       "    <tr>\n",
       "      <th>2</th>\n",
       "      <td>311709.629851</td>\n",
       "      <td>1.473815e-05</td>\n",
       "    </tr>\n",
       "    <tr>\n",
       "      <th>3</th>\n",
       "      <td>1000000.000000</td>\n",
       "      <td>8.200710e-09</td>\n",
       "    </tr>\n",
       "  </tbody>\n",
       "</table>\n",
       "</div>"
      ],
      "text/plain": [
       "   instability_time  frac_energy_error\n",
       "0    1000000.000000       3.537836e-06\n",
       "1     758278.272355       9.174321e-06\n",
       "2     311709.629851       1.473815e-05\n",
       "3    1000000.000000       8.200710e-09"
      ]
     },
     "execution_count": 66,
     "metadata": {},
     "output_type": "execute_result"
    }
   ],
   "source": [
    "import math\n",
    "df = pd.read_csv('../data/whfastias15comparison/whfastdt{:.3f}shadow.csv'.format(6*math.sqrt(3)/100), index_col=0)\n",
    "df.head(20)"
   ]
  },
  {
   "cell_type": "code",
   "execution_count": 58,
   "metadata": {},
   "outputs": [
    {
     "data": {
      "text/html": [
       "<div>\n",
       "<table border=\"1\" class=\"dataframe\">\n",
       "  <thead>\n",
       "    <tr style=\"text-align: right;\">\n",
       "      <th></th>\n",
       "      <th>instability_time</th>\n",
       "      <th>frac_energy_error</th>\n",
       "    </tr>\n",
       "  </thead>\n",
       "  <tbody>\n",
       "    <tr>\n",
       "      <th>0</th>\n",
       "      <td>1000000.000000</td>\n",
       "      <td>4.559574e-14</td>\n",
       "    </tr>\n",
       "    <tr>\n",
       "      <th>1</th>\n",
       "      <td>1000000.000000</td>\n",
       "      <td>7.596780e-14</td>\n",
       "    </tr>\n",
       "    <tr>\n",
       "      <th>2</th>\n",
       "      <td>330120.005872</td>\n",
       "      <td>1.765120e-14</td>\n",
       "    </tr>\n",
       "    <tr>\n",
       "      <th>3</th>\n",
       "      <td>1000000.000000</td>\n",
       "      <td>3.898188e-14</td>\n",
       "    </tr>\n",
       "  </tbody>\n",
       "</table>\n",
       "</div>"
      ],
      "text/plain": [
       "   instability_time  frac_energy_error\n",
       "0    1000000.000000       4.559574e-14\n",
       "1    1000000.000000       7.596780e-14\n",
       "2     330120.005872       1.765120e-14\n",
       "3    1000000.000000       3.898188e-14"
      ]
     },
     "execution_count": 58,
     "metadata": {},
     "output_type": "execute_result"
    }
   ],
   "source": [
    "import math\n",
    "df = pd.read_csv('../data/whfastias15comparison/ias15.csv', index_col=0)\n",
    "df.head()"
   ]
  },
  {
   "cell_type": "code",
   "execution_count": 64,
   "metadata": {
    "collapsed": true
   },
   "outputs": [],
   "source": [
    "a=1"
   ]
  },
  {
   "cell_type": "code",
   "execution_count": 65,
   "metadata": {
    "collapsed": true
   },
   "outputs": [],
   "source": [
    "if a is True:\n",
    "    print(\"hi\")"
   ]
  },
  {
   "cell_type": "code",
   "execution_count": null,
   "metadata": {
    "collapsed": true
   },
   "outputs": [],
   "source": []
  }
 ],
 "metadata": {
  "kernelspec": {
   "display_name": "Python 3",
   "language": "python",
   "name": "python3"
  },
  "language_info": {
   "codemirror_mode": {
    "name": "ipython",
    "version": 3
   },
   "file_extension": ".py",
   "mimetype": "text/x-python",
   "name": "python",
   "nbconvert_exporter": "python",
   "pygments_lexer": "ipython3",
   "version": "3.4.3"
  }
 },
 "nbformat": 4,
 "nbformat_minor": 2
}
